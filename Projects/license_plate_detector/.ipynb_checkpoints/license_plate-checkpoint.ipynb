{
 "cells": [
  {
   "cell_type": "markdown",
   "id": "e98d0ddb-60d9-4993-b02e-dc4e9c91657e",
   "metadata": {},
   "source": [
    "# 0a. Creating a separate object detector just for the license plates"
   ]
  },
  {
   "cell_type": "code",
   "execution_count": null,
   "id": "ff381aa5-b9c3-4237-935c-ca41e4fe0724",
   "metadata": {
    "tags": []
   },
   "outputs": [],
   "source": [
    "# importing the training data\n",
    "!pip install roboflow\n",
    "from roboflow import Roboflow\n",
    "rf = Roboflow(api_key=\"xyz\")\n",
    "project = rf.workspace(\"mochoye\").project(\"license-plate-detector-ogxxg\")\n",
    "dataset = project.version(2).download(\"yolov8\")"
   ]
  },
  {
   "cell_type": "code",
   "execution_count": null,
   "id": "2ab20fdb-abd1-4f04-8826-e1166369e752",
   "metadata": {},
   "outputs": [],
   "source": [
    "from ultralytics import YOLO"
   ]
  },
  {
   "cell_type": "code",
   "execution_count": null,
   "id": "f63cf3b7-225e-48ec-8153-d7b645b0ccfa",
   "metadata": {
    "scrolled": true,
    "tags": []
   },
   "outputs": [],
   "source": [
    "lp_model = YOLO('yolov8n.pt')  # load a pretrained model (recommended for training)\n",
    "results = lp_model.train(data='/Users/fedoradushev/Documents/GitHub/Computer-Vision/yolo/Projects/license_plate_detector/License-Plate-Detector-2/data.yaml', \n",
    "                         epochs=100, imgsz=640, device=\"mps\")   # train the model"
   ]
  },
  {
   "cell_type": "markdown",
   "id": "275bd06c-5719-44a3-ae2a-62ab7b845ed5",
   "metadata": {},
   "source": [
    "# 0b. Link licence plate to a vehicle"
   ]
  },
  {
   "cell_type": "markdown",
   "id": "010694be-84c0-4060-ac6d-023c790af1bc",
   "metadata": {
    "tags": []
   },
   "source": [
    "`abewley/sort`: can assign an id to the tracked object based on the information of the bbox of two frames\n",
    "\n",
    "```\n",
    "from sort.sort import *\n",
    "\n",
    "mot_tracker = Sort()\n",
    "\n",
    "track_ids = mot_tracker.update(np.asarray(detections))   # adds an additional column to 'detections_' for vehicle-id\n",
    "\n",
    "```\n",
    "\n",
    "detections: x1, y1, x2, y2, score, class_id\n"
   ]
  },
  {
   "cell_type": "code",
   "execution_count": 2,
   "id": "e58153c4-040a-4994-a9ff-e32a84f96aad",
   "metadata": {
    "tags": []
   },
   "outputs": [],
   "source": [
    "def get_car(license_plate, vehicles):\n",
    "    \n",
    "    x1, y1, x2, y2, score, class_id = license_plate\n",
    "\n",
    "    foundIt = False\n",
    "    \n",
    "    for j in range(len(vehicles)):\n",
    "        x1_carj, y1_carj, x2_carj, y2_carj, carj_score = vehicles[j]\n",
    "\n",
    "        if x1 > x1_carj and y1 > y1_carj and x2 < x2_carj and y2 < y2_carj:\n",
    "            car_indx = j\n",
    "            foundIt = True\n",
    "            break\n",
    "\n",
    "    if foundIt:\n",
    "        return vehicles[car_indx]\n",
    "\n",
    "    return -1, -1, -1, -1, -1"
   ]
  },
  {
   "cell_type": "markdown",
   "id": "4c207c89-6dbc-4654-aff4-d283fc796ee2",
   "metadata": {},
   "source": [
    "# 0c. Read the license"
   ]
  },
  {
   "cell_type": "code",
   "execution_count": 3,
   "id": "fd9754ab-ff0f-47f0-ae5c-380692dc9eaa",
   "metadata": {
    "tags": []
   },
   "outputs": [],
   "source": [
    "import easyocr\n",
    "\n",
    "reader = easyocr.Reader(['en'], gpu=True)\n",
    "\n",
    "def read_lp(license_plate_crop):\n",
    "\n",
    "    detections = reader.readtext(license_plate_crop)\n",
    "\n",
    "    for detection in detections:\n",
    "        bbox, text, score = detection\n",
    "\n",
    "        text = text.upper()\n",
    "        text = text.replace(' ', '')\n",
    "\n",
    "        #text = format_text(text)\n",
    "        return text"
   ]
  },
  {
   "cell_type": "markdown",
   "id": "1f954bc1-7c17-4022-98ca-20a301268ef7",
   "metadata": {
    "tags": []
   },
   "source": [
    "# 01. Automatic licence plate recognition"
   ]
  },
  {
   "cell_type": "code",
   "execution_count": null,
   "id": "0c0c1f14-c082-44f0-ba0c-842424bc510a",
   "metadata": {
    "tags": []
   },
   "outputs": [],
   "source": [
    " # enable contiuous tracking\n",
    "!git clone https://github.com/abewley/sort.git"
   ]
  },
  {
   "cell_type": "code",
   "execution_count": 4,
   "id": "cd915554-536f-4a8b-9a75-51ff9b1481d1",
   "metadata": {
    "tags": []
   },
   "outputs": [],
   "source": [
    "from ultralytics import YOLO\n",
    "import cv2\n",
    "\n",
    "lp_model = YOLO('/Users/fedoradushev/Documents/GitHub/Computer-Vision/yolo/Projects/license_plate_detector/runs/detect/train/weights/last.pt')\n",
    "coco_model = YOLO('yolov8n.pt')"
   ]
  },
  {
   "cell_type": "markdown",
   "id": "d20669bd-e5f0-41a8-a2c7-6e4428c849a9",
   "metadata": {},
   "source": [
    "included classes of the [coco-model](https://tech.amikelive.com/node-718/what-object-categories-labels-are-in-coco-dataset/)\n",
    "| ID | OBJECT (PAPER) | OBJECT (2014 REL.) | OBJECT (2017 REL.) | SUPER CATEGORY |\n",
    "|----|----------------|--------------------|--------------------|----------------|\n",
    "| 1  | person         | person             | person             | person         |\n",
    "| 2  | bicycle        | bicycle            | bicycle            | vehicle        |\n",
    "| 3  | car            | car                | car                | vehicle        |\n",
    "| 4  | motorcycle     | motorcycle         | motorcycle         | vehicle        |\n",
    "| 5  | airplane       | airplane           | airplane           | vehicle        |\n",
    "| 6  | bus            | bus                | bus                | vehicle        |\n",
    "| 7  | train          | train              | train              | vehicle        |\n",
    "| 8  | truck          | truck              | truck              | vehicle        |\n",
    "| 9  | boat           | boat               | boat               | vehicle        |\n",
    "| 10 | traffic light  | traffic light      | traffic light      | outdoor        |"
   ]
  },
  {
   "cell_type": "code",
   "execution_count": 5,
   "id": "17d0c173-758a-41b7-aebc-b51e05a67603",
   "metadata": {
    "tags": []
   },
   "outputs": [],
   "source": [
    "# selecting the relevant classes for the tracking of vehicles\n",
    "\n",
    "vehicles = [2,   # car\n",
    "            3,   # motorcycle\n",
    "            5,   # bus\n",
    "            7]   # truck"
   ]
  },
  {
   "cell_type": "code",
   "execution_count": 6,
   "id": "2b5a643f-12ee-4793-ba36-f00df0f0eff0",
   "metadata": {
    "tags": []
   },
   "outputs": [],
   "source": [
    "def draw_bbox_lp(frame, x1, y1, x2, y2):\n",
    "    cv2.rectangle(frame, (int(x1), int(y1)), (int(x2), int(y2)), (0, 255, 0), 5)\n",
    "\n",
    "# corresponding bbox of car to previous lp\n",
    "def draw_bbox_car(frame, x1, y1, x2, y2):\n",
    "    cv2.rectangle(frame, (int(x1), int(y1)), (int(x2), int(y2)), (0, 0, 255), 5)\n",
    "    \n",
    "def display_lp(frame, x1, y1, lp_frame_crop):\n",
    "    lp_gray = cv2.cvtColor(lp_frame_crop, cv2.COLOR_BGR2GRAY)      \n",
    "    _, lp_thresh = cv2.threshold(lp_gray, 64, 255, cv2.THRESH_BINARY_INV)   # makes it easier for the ocr software to process\n",
    "\n",
    "    # ocr on license plate\n",
    "    lp_txt = read_lp(lp_thresh)\n",
    "\n",
    "    cv2.putText(frame, lp_txt, (int(x1), int(y1 - 10)), cv2.FONT_HERSHEY_SIMPLEX, 1.5, (0, 255, 0), 2)"
   ]
  },
  {
   "cell_type": "code",
   "execution_count": 7,
   "id": "c40facdf-654b-408c-8fb5-62aabf144b99",
   "metadata": {
    "tags": []
   },
   "outputs": [],
   "source": [
    "# DTECTION OF ALL VEHICLES IN THE CURRENT FRAME\n",
    "def detect_all_vehicles_in_frame(frame, coco_model, vehicles):\n",
    "    detections = coco_model(frame)[0]\n",
    "    detections_ = list()              # storage for the vehicle bBoxes & their probability → we don't care about what type of vehicle that is\n",
    "\n",
    "    for detection in detections.boxes.data.tolist():\n",
    "        x1, y1, x2, y2, score, class_id = detection\n",
    "        if int(class_id) in vehicles:\n",
    "            detections_.append([x1, y1, x2, y2, score])\n",
    "    return detections_"
   ]
  },
  {
   "cell_type": "code",
   "execution_count": 8,
   "id": "b4fd7e97-d09b-4331-9b1a-c82555e792cd",
   "metadata": {
    "tags": []
   },
   "outputs": [],
   "source": [
    "# DETECTION OF ALL LICENSE PLATES IN THE CURRENT FRAME\n",
    "def detect_all_license_plates_in_frame(frame, lp_model, detection_):\n",
    "    license_plates = lp_model(frame)[0]\n",
    "    for license_plate in license_plates.boxes.data.tolist():\n",
    "        x1, y1, x2, y2, score, class_id = license_plate\n",
    "\n",
    "        draw_bbox_lp(frame, x1, y1, x2, y2)\n",
    "        \n",
    "        # assign license plate to car\n",
    "        x1_carj, y1_carj, x2_carj, y2_carj, carj_score = get_car(license_plate, detections_)\n",
    "        \n",
    "        if carj_score != -1:\n",
    "            draw_bbox_car(frame, x1_carj, y1_carj, x2_carj, y2_carj)\n",
    "\n",
    "        if carj_score != -1:\n",
    "            # crop the licence plate\n",
    "            lp_frame_crop = frame[int(y1):int(y2), int(x1): int(x2), :]\n",
    "            display_lp(frame, x1_carj, y1_carj, lp_frame_crop)"
   ]
  },
  {
   "cell_type": "markdown",
   "id": "f9b6f6c8-5b80-4067-87cd-d906c36a78db",
   "metadata": {},
   "source": [
    "the utilized video can be downloaded [here](https://drive.google.com/file/d/12sBfgLICdQEnDSOkVFZiJuUE6d3BeanT/view)"
   ]
  },
  {
   "cell_type": "code",
   "execution_count": null,
   "id": "b0aed059-647a-469f-a97a-28aea0059a31",
   "metadata": {
    "tags": []
   },
   "outputs": [
    {
     "name": "stdout",
     "output_type": "stream",
     "text": [
      "\n",
      "0: 384x640 22 cars, 1 bus, 2 trucks, 59.1ms\n",
      "Speed: 3.7ms preprocess, 59.1ms inference, 0.8ms postprocess per image at shape (1, 3, 384, 640)\n",
      "\n",
      "0: 384x640 1 LicensePlate, 53.6ms\n",
      "Speed: 2.6ms preprocess, 53.6ms inference, 0.5ms postprocess per image at shape (1, 3, 384, 640)\n",
      "\n",
      "0: 384x640 22 cars, 1 bus, 2 trucks, 147.7ms\n",
      "Speed: 2.3ms preprocess, 147.7ms inference, 0.7ms postprocess per image at shape (1, 3, 384, 640)\n",
      "\n",
      "0: 384x640 1 LicensePlate, 56.5ms\n",
      "Speed: 1.9ms preprocess, 56.5ms inference, 0.4ms postprocess per image at shape (1, 3, 384, 640)\n",
      "\n",
      "0: 384x640 22 cars, 1 bus, 2 trucks, 61.2ms\n",
      "Speed: 2.5ms preprocess, 61.2ms inference, 0.5ms postprocess per image at shape (1, 3, 384, 640)\n",
      "\n",
      "0: 384x640 (no detections), 57.0ms\n",
      "Speed: 2.0ms preprocess, 57.0ms inference, 0.2ms postprocess per image at shape (1, 3, 384, 640)\n",
      "\n",
      "0: 384x640 21 cars, 1 bus, 2 trucks, 93.5ms\n",
      "Speed: 10.1ms preprocess, 93.5ms inference, 1.0ms postprocess per image at shape (1, 3, 384, 640)\n",
      "\n",
      "0: 384x640 1 LicensePlate, 57.2ms\n",
      "Speed: 2.3ms preprocess, 57.2ms inference, 0.4ms postprocess per image at shape (1, 3, 384, 640)\n",
      "\n",
      "0: 384x640 23 cars, 1 bus, 2 trucks, 82.1ms\n",
      "Speed: 30.4ms preprocess, 82.1ms inference, 0.5ms postprocess per image at shape (1, 3, 384, 640)\n",
      "\n",
      "0: 384x640 1 LicensePlate, 57.8ms\n",
      "Speed: 2.1ms preprocess, 57.8ms inference, 0.5ms postprocess per image at shape (1, 3, 384, 640)\n",
      "\n",
      "0: 384x640 25 cars, 1 bus, 2 trucks, 59.9ms\n",
      "Speed: 2.1ms preprocess, 59.9ms inference, 0.5ms postprocess per image at shape (1, 3, 384, 640)\n",
      "\n",
      "0: 384x640 (no detections), 44.0ms\n",
      "Speed: 2.3ms preprocess, 44.0ms inference, 0.2ms postprocess per image at shape (1, 3, 384, 640)\n",
      "\n",
      "0: 384x640 23 cars, 1 bus, 1 truck, 119.5ms\n",
      "Speed: 2.0ms preprocess, 119.5ms inference, 0.5ms postprocess per image at shape (1, 3, 384, 640)\n",
      "\n",
      "0: 384x640 (no detections), 69.7ms\n",
      "Speed: 1.8ms preprocess, 69.7ms inference, 0.2ms postprocess per image at shape (1, 3, 384, 640)\n",
      "\n",
      "0: 384x640 23 cars, 1 bus, 1 truck, 46.1ms\n",
      "Speed: 2.3ms preprocess, 46.1ms inference, 0.4ms postprocess per image at shape (1, 3, 384, 640)\n",
      "\n",
      "0: 384x640 (no detections), 45.4ms\n",
      "Speed: 1.9ms preprocess, 45.4ms inference, 0.2ms postprocess per image at shape (1, 3, 384, 640)\n",
      "\n",
      "0: 384x640 22 cars, 1 bus, 2 trucks, 73.2ms\n",
      "Speed: 2.0ms preprocess, 73.2ms inference, 23.9ms postprocess per image at shape (1, 3, 384, 640)\n",
      "\n",
      "0: 384x640 (no detections), 63.6ms\n",
      "Speed: 18.3ms preprocess, 63.6ms inference, 0.4ms postprocess per image at shape (1, 3, 384, 640)\n",
      "\n",
      "0: 384x640 22 cars, 1 bus, 2 trucks, 47.5ms\n",
      "Speed: 2.0ms preprocess, 47.5ms inference, 0.5ms postprocess per image at shape (1, 3, 384, 640)\n",
      "\n",
      "0: 384x640 (no detections), 52.5ms\n",
      "Speed: 2.3ms preprocess, 52.5ms inference, 0.2ms postprocess per image at shape (1, 3, 384, 640)\n",
      "\n",
      "0: 384x640 22 cars, 1 bus, 3 trucks, 71.7ms\n",
      "Speed: 2.1ms preprocess, 71.7ms inference, 1.0ms postprocess per image at shape (1, 3, 384, 640)\n",
      "\n",
      "0: 384x640 (no detections), 110.2ms\n",
      "Speed: 2.1ms preprocess, 110.2ms inference, 0.2ms postprocess per image at shape (1, 3, 384, 640)\n",
      "\n",
      "0: 384x640 22 cars, 1 bus, 3 trucks, 58.7ms\n",
      "Speed: 2.0ms preprocess, 58.7ms inference, 0.5ms postprocess per image at shape (1, 3, 384, 640)\n",
      "\n",
      "0: 384x640 1 LicensePlate, 55.9ms\n",
      "Speed: 2.5ms preprocess, 55.9ms inference, 0.5ms postprocess per image at shape (1, 3, 384, 640)\n",
      "\n",
      "0: 384x640 23 cars, 1 bus, 3 trucks, 139.0ms\n",
      "Speed: 2.1ms preprocess, 139.0ms inference, 0.5ms postprocess per image at shape (1, 3, 384, 640)\n",
      "\n",
      "0: 384x640 1 LicensePlate, 60.8ms\n",
      "Speed: 2.1ms preprocess, 60.8ms inference, 0.6ms postprocess per image at shape (1, 3, 384, 640)\n",
      "\n",
      "0: 384x640 23 cars, 1 bus, 2 trucks, 80.9ms\n",
      "Speed: 2.2ms preprocess, 80.9ms inference, 0.6ms postprocess per image at shape (1, 3, 384, 640)\n",
      "\n",
      "0: 384x640 1 LicensePlate, 71.7ms\n",
      "Speed: 2.3ms preprocess, 71.7ms inference, 0.6ms postprocess per image at shape (1, 3, 384, 640)\n",
      "\n",
      "0: 384x640 24 cars, 1 bus, 2 trucks, 65.4ms\n",
      "Speed: 5.7ms preprocess, 65.4ms inference, 0.5ms postprocess per image at shape (1, 3, 384, 640)\n",
      "\n",
      "0: 384x640 (no detections), 61.3ms\n",
      "Speed: 2.0ms preprocess, 61.3ms inference, 0.2ms postprocess per image at shape (1, 3, 384, 640)\n",
      "\n",
      "0: 384x640 23 cars, 1 bus, 2 trucks, 58.8ms\n",
      "Speed: 2.2ms preprocess, 58.8ms inference, 0.6ms postprocess per image at shape (1, 3, 384, 640)\n",
      "\n",
      "0: 384x640 (no detections), 222.5ms\n",
      "Speed: 2.5ms preprocess, 222.5ms inference, 0.4ms postprocess per image at shape (1, 3, 384, 640)\n",
      "\n",
      "0: 384x640 22 cars, 1 bus, 2 trucks, 106.6ms\n",
      "Speed: 4.2ms preprocess, 106.6ms inference, 1.1ms postprocess per image at shape (1, 3, 384, 640)\n",
      "\n",
      "0: 384x640 (no detections), 106.2ms\n",
      "Speed: 4.3ms preprocess, 106.2ms inference, 0.4ms postprocess per image at shape (1, 3, 384, 640)\n",
      "\n",
      "0: 384x640 22 cars, 1 bus, 2 trucks, 108.0ms\n",
      "Speed: 80.6ms preprocess, 108.0ms inference, 0.8ms postprocess per image at shape (1, 3, 384, 640)\n",
      "\n",
      "0: 384x640 (no detections), 110.0ms\n",
      "Speed: 3.8ms preprocess, 110.0ms inference, 0.5ms postprocess per image at shape (1, 3, 384, 640)\n",
      "\n",
      "0: 384x640 24 cars, 1 bus, 2 trucks, 179.6ms\n",
      "Speed: 24.0ms preprocess, 179.6ms inference, 5.1ms postprocess per image at shape (1, 3, 384, 640)\n",
      "\n",
      "0: 384x640 (no detections), 142.1ms\n",
      "Speed: 3.3ms preprocess, 142.1ms inference, 0.5ms postprocess per image at shape (1, 3, 384, 640)\n",
      "\n",
      "0: 384x640 23 cars, 1 bus, 2 trucks, 200.3ms\n",
      "Speed: 31.9ms preprocess, 200.3ms inference, 1.2ms postprocess per image at shape (1, 3, 384, 640)\n",
      "\n",
      "0: 384x640 (no detections), 86.4ms\n",
      "Speed: 3.8ms preprocess, 86.4ms inference, 0.4ms postprocess per image at shape (1, 3, 384, 640)\n",
      "\n"
     ]
    }
   ],
   "source": [
    "video = cv2.VideoCapture('./highway_full.mp4')\n",
    "\n",
    "frame_nr = -1\n",
    "ret = True\n",
    "\n",
    "while ret:\n",
    "    frame_nr += 1\n",
    "    ret, frame = video.read()\n",
    "    \n",
    "    \n",
    "    if ret:\n",
    "        # ALL CARS\n",
    "        detections_ = detect_all_vehicles_in_frame(frame, coco_model, vehicles)\n",
    "        # ALL LP\n",
    "        license_plates = lp_model(frame)[0]\n",
    "            # ITERATING OVER ALL LP\n",
    "        for license_plate in license_plates.boxes.data.tolist():\n",
    "            x1, y1, x2, y2, score, class_id = license_plate\n",
    "\n",
    "            draw_bbox_lp(frame, x1, y1, x2, y2)\n",
    "\n",
    "            # assign license plate to car\n",
    "            x1_carj, y1_carj, x2_carj, y2_carj, carj_score = get_car(license_plate, detections_)\n",
    "\n",
    "            if carj_score != -1:\n",
    "                draw_bbox_car(frame, x1_carj, y1_carj, x2_carj, y2_carj)\n",
    "\n",
    "            if carj_score != -1:\n",
    "                # crop the licence plate\n",
    "                lp_frame_crop = frame[int(y1):int(y2), int(x1): int(x2), :]\n",
    "                display_lp(frame, x1_carj, y1_carj, lp_frame_crop)\n",
    "        \n",
    "        \n",
    "        cv2.imshow('frame', frame)\n",
    "        cv2.waitKey(1)\n",
    "        \n",
    "        \n",
    "video.release()           \n",
    "cv2.destroyAllWindows()"
   ]
  },
  {
   "cell_type": "code",
   "execution_count": null,
   "id": "8780c128-f962-4375-b205-ae1879b2e970",
   "metadata": {},
   "outputs": [],
   "source": []
  }
 ],
 "metadata": {
  "kernelspec": {
   "display_name": "Python 3.10 (pytorch)",
   "language": "python",
   "name": "pytorch"
  },
  "language_info": {
   "codemirror_mode": {
    "name": "ipython",
    "version": 3
   },
   "file_extension": ".py",
   "mimetype": "text/x-python",
   "name": "python",
   "nbconvert_exporter": "python",
   "pygments_lexer": "ipython3",
   "version": "3.10.13"
  }
 },
 "nbformat": 4,
 "nbformat_minor": 5
}
